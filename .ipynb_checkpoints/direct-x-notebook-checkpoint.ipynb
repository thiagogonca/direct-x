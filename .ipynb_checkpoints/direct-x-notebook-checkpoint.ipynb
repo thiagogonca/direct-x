{
 "cells": [
  {
   "cell_type": "code",
   "execution_count": 1,
   "metadata": {},
   "outputs": [],
   "source": [
    "import pandas as pd\n",
    "import seaborn as sns\n",
    "import matplotlib.pyplot as plt"
   ]
  },
  {
   "cell_type": "code",
   "execution_count": 2,
   "metadata": {},
   "outputs": [],
   "source": [
    "sub_data = pd.read_csv('data/Test.csv')\n",
    "df = pd.read_csv('data/Train.csv')"
   ]
  },
  {
   "cell_type": "code",
   "execution_count": 9,
   "metadata": {},
   "outputs": [
    {
     "data": {
      "text/html": [
       "<div>\n",
       "<style scoped>\n",
       "    .dataframe tbody tr th:only-of-type {\n",
       "        vertical-align: middle;\n",
       "    }\n",
       "\n",
       "    .dataframe tbody tr th {\n",
       "        vertical-align: top;\n",
       "    }\n",
       "\n",
       "    .dataframe thead th {\n",
       "        text-align: right;\n",
       "    }\n",
       "</style>\n",
       "<table border=\"1\" class=\"dataframe\">\n",
       "  <thead>\n",
       "    <tr style=\"text-align: right;\">\n",
       "      <th></th>\n",
       "      <th>Nome</th>\n",
       "      <th>Best_Resolution</th>\n",
       "      <th>Boost_Clock</th>\n",
       "      <th>Core_Speed</th>\n",
       "      <th>DVI_Connection</th>\n",
       "      <th>Dedicated</th>\n",
       "      <th>DisplayPort_Connection</th>\n",
       "      <th>HDMI_Connection</th>\n",
       "      <th>Integrated</th>\n",
       "      <th>L2_Cache</th>\n",
       "      <th>...</th>\n",
       "      <th>Power_Connector</th>\n",
       "      <th>Process</th>\n",
       "      <th>ROPs</th>\n",
       "      <th>Resolution_WxH</th>\n",
       "      <th>SLI_Crossfire</th>\n",
       "      <th>Shader</th>\n",
       "      <th>TMUs</th>\n",
       "      <th>Texture_Rate</th>\n",
       "      <th>VGA_Connection</th>\n",
       "      <th>DirectX</th>\n",
       "    </tr>\n",
       "  </thead>\n",
       "  <tbody>\n",
       "    <tr>\n",
       "      <th>0</th>\n",
       "      <td>GDVGF0SH61PY9M2INL2QI3AHTK3HTCKI7VHE7O19</td>\n",
       "      <td>1920 x 1080</td>\n",
       "      <td>1253 MHz</td>\n",
       "      <td>1076 MHz</td>\n",
       "      <td>1.0</td>\n",
       "      <td>Yes</td>\n",
       "      <td>1.0</td>\n",
       "      <td>1.0</td>\n",
       "      <td>No</td>\n",
       "      <td>1024KB</td>\n",
       "      <td>...</td>\n",
       "      <td>None</td>\n",
       "      <td>28nm</td>\n",
       "      <td>32</td>\n",
       "      <td>5120x3200</td>\n",
       "      <td>Yes</td>\n",
       "      <td>5.0</td>\n",
       "      <td>48.0</td>\n",
       "      <td>60 GTexel/s</td>\n",
       "      <td>0.0</td>\n",
       "      <td>12</td>\n",
       "    </tr>\n",
       "    <tr>\n",
       "      <th>1</th>\n",
       "      <td>7JK45GGO3YLWSYL</td>\n",
       "      <td>NaN</td>\n",
       "      <td>NaN</td>\n",
       "      <td>\\n-</td>\n",
       "      <td>NaN</td>\n",
       "      <td>Yes</td>\n",
       "      <td>NaN</td>\n",
       "      <td>NaN</td>\n",
       "      <td>No</td>\n",
       "      <td>0KB</td>\n",
       "      <td>...</td>\n",
       "      <td>NaN</td>\n",
       "      <td>NaN</td>\n",
       "      <td>NaN</td>\n",
       "      <td>2560x1600</td>\n",
       "      <td>No</td>\n",
       "      <td>4.0</td>\n",
       "      <td>NaN</td>\n",
       "      <td>NaN</td>\n",
       "      <td>NaN</td>\n",
       "      <td>10</td>\n",
       "    </tr>\n",
       "    <tr>\n",
       "      <th>2</th>\n",
       "      <td>ZC0GAMPBZGI7HE1</td>\n",
       "      <td>1366 x 768</td>\n",
       "      <td>NaN</td>\n",
       "      <td>810 MHz</td>\n",
       "      <td>NaN</td>\n",
       "      <td>Yes</td>\n",
       "      <td>NaN</td>\n",
       "      <td>NaN</td>\n",
       "      <td>No</td>\n",
       "      <td>256KB</td>\n",
       "      <td>...</td>\n",
       "      <td>NaN</td>\n",
       "      <td>28nm</td>\n",
       "      <td>16</td>\n",
       "      <td>4096x2160</td>\n",
       "      <td>No</td>\n",
       "      <td>5.0</td>\n",
       "      <td>32.0</td>\n",
       "      <td>26 GTexel/s</td>\n",
       "      <td>NaN</td>\n",
       "      <td>12</td>\n",
       "    </tr>\n",
       "    <tr>\n",
       "      <th>3</th>\n",
       "      <td>TOASMLBKENKUKMXGHHQ1CN95QZRZB2GF7G35KJMOC</td>\n",
       "      <td>1920 x 1080</td>\n",
       "      <td>1111 MHz</td>\n",
       "      <td>1046 MHz</td>\n",
       "      <td>1.0</td>\n",
       "      <td>Yes</td>\n",
       "      <td>NaN</td>\n",
       "      <td>2.0</td>\n",
       "      <td>No</td>\n",
       "      <td>384KB</td>\n",
       "      <td>...</td>\n",
       "      <td>None</td>\n",
       "      <td>28nm</td>\n",
       "      <td>24</td>\n",
       "      <td>4096x2160</td>\n",
       "      <td>Yes</td>\n",
       "      <td>5.0</td>\n",
       "      <td>80.0</td>\n",
       "      <td>89 GTexel/s</td>\n",
       "      <td>0.0</td>\n",
       "      <td>12</td>\n",
       "    </tr>\n",
       "    <tr>\n",
       "      <th>4</th>\n",
       "      <td>G1C3DNBKSFIJ1QH9</td>\n",
       "      <td>1366 x 768</td>\n",
       "      <td>NaN</td>\n",
       "      <td>954 MHz</td>\n",
       "      <td>NaN</td>\n",
       "      <td>Yes</td>\n",
       "      <td>NaN</td>\n",
       "      <td>NaN</td>\n",
       "      <td>No</td>\n",
       "      <td>128KB</td>\n",
       "      <td>...</td>\n",
       "      <td>NaN</td>\n",
       "      <td>28nm</td>\n",
       "      <td>8</td>\n",
       "      <td>4096x2160</td>\n",
       "      <td>No</td>\n",
       "      <td>5.0</td>\n",
       "      <td>32.0</td>\n",
       "      <td>31 GTexel/s</td>\n",
       "      <td>NaN</td>\n",
       "      <td>12</td>\n",
       "    </tr>\n",
       "  </tbody>\n",
       "</table>\n",
       "<p>5 rows × 29 columns</p>\n",
       "</div>"
      ],
      "text/plain": [
       "                                        Nome Best_Resolution Boost_Clock  \\\n",
       "0   GDVGF0SH61PY9M2INL2QI3AHTK3HTCKI7VHE7O19     1920 x 1080   1253 MHz    \n",
       "1                            7JK45GGO3YLWSYL             NaN         NaN   \n",
       "2                            ZC0GAMPBZGI7HE1      1366 x 768         NaN   \n",
       "3  TOASMLBKENKUKMXGHHQ1CN95QZRZB2GF7G35KJMOC     1920 x 1080   1111 MHz    \n",
       "4                           G1C3DNBKSFIJ1QH9      1366 x 768         NaN   \n",
       "\n",
       "  Core_Speed  DVI_Connection Dedicated  DisplayPort_Connection  \\\n",
       "0   1076 MHz             1.0       Yes                     1.0   \n",
       "1       \\n-              NaN       Yes                     NaN   \n",
       "2    810 MHz             NaN       Yes                     NaN   \n",
       "3   1046 MHz             1.0       Yes                     NaN   \n",
       "4    954 MHz             NaN       Yes                     NaN   \n",
       "\n",
       "   HDMI_Connection Integrated L2_Cache  ... Power_Connector Process ROPs  \\\n",
       "0              1.0         No   1024KB  ...           None     28nm   32   \n",
       "1              NaN         No      0KB  ...             NaN     NaN  NaN   \n",
       "2              NaN         No    256KB  ...             NaN    28nm   16   \n",
       "3              2.0         No    384KB  ...           None     28nm   24   \n",
       "4              NaN         No    128KB  ...             NaN    28nm    8   \n",
       "\n",
       "  Resolution_WxH SLI_Crossfire Shader  TMUs Texture_Rate VGA_Connection  \\\n",
       "0      5120x3200           Yes    5.0  48.0  60 GTexel/s            0.0   \n",
       "1      2560x1600            No    4.0   NaN          NaN            NaN   \n",
       "2      4096x2160            No    5.0  32.0  26 GTexel/s            NaN   \n",
       "3      4096x2160           Yes    5.0  80.0  89 GTexel/s            0.0   \n",
       "4      4096x2160            No    5.0  32.0  31 GTexel/s            NaN   \n",
       "\n",
       "  DirectX  \n",
       "0      12  \n",
       "1      10  \n",
       "2      12  \n",
       "3      12  \n",
       "4      12  \n",
       "\n",
       "[5 rows x 29 columns]"
      ]
     },
     "execution_count": 9,
     "metadata": {},
     "output_type": "execute_result"
    }
   ],
   "source": [
    "df.head()"
   ]
  },
  {
   "cell_type": "code",
   "execution_count": 10,
   "metadata": {},
   "outputs": [
    {
     "data": {
      "text/plain": [
       "(3180, 29)"
      ]
     },
     "execution_count": 10,
     "metadata": {},
     "output_type": "execute_result"
    }
   ],
   "source": [
    "df.shape"
   ]
  },
  {
   "cell_type": "code",
   "execution_count": 11,
   "metadata": {},
   "outputs": [
    {
     "data": {
      "text/plain": [
       "Nome                       object\n",
       "Best_Resolution            object\n",
       "Boost_Clock                object\n",
       "Core_Speed                 object\n",
       "DVI_Connection            float64\n",
       "Dedicated                  object\n",
       "DisplayPort_Connection    float64\n",
       "HDMI_Connection           float64\n",
       "Integrated                 object\n",
       "L2_Cache                   object\n",
       "Max_Power                  object\n",
       "Memory                     object\n",
       "Memory_Bandwidth           object\n",
       "Memory_Bus                 object\n",
       "Memory_Speed               object\n",
       "Memory_Type                object\n",
       "Notebook_GPU               object\n",
       "PSU                        object\n",
       "Pixel_Rate                 object\n",
       "Power_Connector            object\n",
       "Process                    object\n",
       "ROPs                       object\n",
       "Resolution_WxH             object\n",
       "SLI_Crossfire              object\n",
       "Shader                    float64\n",
       "TMUs                      float64\n",
       "Texture_Rate               object\n",
       "VGA_Connection            float64\n",
       "DirectX                     int64\n",
       "dtype: object"
      ]
     },
     "execution_count": 11,
     "metadata": {},
     "output_type": "execute_result"
    }
   ],
   "source": [
    "df.dtypes"
   ]
  },
  {
   "cell_type": "code",
   "execution_count": 12,
   "metadata": {},
   "outputs": [
    {
     "data": {
      "text/plain": [
       "Nome                         0\n",
       "Best_Resolution            530\n",
       "Boost_Clock               1768\n",
       "Core_Speed                   0\n",
       "DVI_Connection             679\n",
       "Dedicated                   10\n",
       "DisplayPort_Connection    2344\n",
       "HDMI_Connection            688\n",
       "Integrated                  10\n",
       "L2_Cache                     0\n",
       "Max_Power                  547\n",
       "Memory                     366\n",
       "Memory_Bandwidth           101\n",
       "Memory_Bus                  47\n",
       "Memory_Speed                91\n",
       "Memory_Type                 43\n",
       "Notebook_GPU                 0\n",
       "PSU                       1051\n",
       "Pixel_Rate                 445\n",
       "Power_Connector            646\n",
       "Process                    374\n",
       "ROPs                       441\n",
       "Resolution_WxH             150\n",
       "SLI_Crossfire                0\n",
       "Shader                      82\n",
       "TMUs                       441\n",
       "Texture_Rate               445\n",
       "VGA_Connection             686\n",
       "DirectX                      0\n",
       "dtype: int64"
      ]
     },
     "execution_count": 12,
     "metadata": {},
     "output_type": "execute_result"
    }
   ],
   "source": [
    "df.isna().sum()"
   ]
  },
  {
   "cell_type": "code",
   "execution_count": 13,
   "metadata": {},
   "outputs": [
    {
     "data": {
      "text/html": [
       "<div>\n",
       "<style scoped>\n",
       "    .dataframe tbody tr th:only-of-type {\n",
       "        vertical-align: middle;\n",
       "    }\n",
       "\n",
       "    .dataframe tbody tr th {\n",
       "        vertical-align: top;\n",
       "    }\n",
       "\n",
       "    .dataframe thead th {\n",
       "        text-align: right;\n",
       "    }\n",
       "</style>\n",
       "<table border=\"1\" class=\"dataframe\">\n",
       "  <thead>\n",
       "    <tr style=\"text-align: right;\">\n",
       "      <th></th>\n",
       "      <th>DVI_Connection</th>\n",
       "      <th>DisplayPort_Connection</th>\n",
       "      <th>HDMI_Connection</th>\n",
       "      <th>Shader</th>\n",
       "      <th>TMUs</th>\n",
       "      <th>VGA_Connection</th>\n",
       "      <th>DirectX</th>\n",
       "    </tr>\n",
       "  </thead>\n",
       "  <tbody>\n",
       "    <tr>\n",
       "      <th>count</th>\n",
       "      <td>2501.000000</td>\n",
       "      <td>836.000000</td>\n",
       "      <td>2492.000000</td>\n",
       "      <td>3098.000000</td>\n",
       "      <td>2739.000000</td>\n",
       "      <td>2494.000000</td>\n",
       "      <td>3180.000000</td>\n",
       "    </tr>\n",
       "    <tr>\n",
       "      <th>mean</th>\n",
       "      <td>1.368653</td>\n",
       "      <td>1.616029</td>\n",
       "      <td>0.864366</td>\n",
       "      <td>4.744061</td>\n",
       "      <td>70.230376</td>\n",
       "      <td>0.212109</td>\n",
       "      <td>11.420755</td>\n",
       "    </tr>\n",
       "    <tr>\n",
       "      <th>std</th>\n",
       "      <td>0.707701</td>\n",
       "      <td>1.221438</td>\n",
       "      <td>0.466525</td>\n",
       "      <td>0.644150</td>\n",
       "      <td>54.450249</td>\n",
       "      <td>0.428991</td>\n",
       "      <td>0.964130</td>\n",
       "    </tr>\n",
       "    <tr>\n",
       "      <th>min</th>\n",
       "      <td>0.000000</td>\n",
       "      <td>0.000000</td>\n",
       "      <td>0.000000</td>\n",
       "      <td>1.000000</td>\n",
       "      <td>1.000000</td>\n",
       "      <td>0.000000</td>\n",
       "      <td>8.000000</td>\n",
       "    </tr>\n",
       "    <tr>\n",
       "      <th>25%</th>\n",
       "      <td>1.000000</td>\n",
       "      <td>1.000000</td>\n",
       "      <td>1.000000</td>\n",
       "      <td>5.000000</td>\n",
       "      <td>32.000000</td>\n",
       "      <td>0.000000</td>\n",
       "      <td>11.000000</td>\n",
       "    </tr>\n",
       "    <tr>\n",
       "      <th>50%</th>\n",
       "      <td>1.000000</td>\n",
       "      <td>1.000000</td>\n",
       "      <td>1.000000</td>\n",
       "      <td>5.000000</td>\n",
       "      <td>56.000000</td>\n",
       "      <td>0.000000</td>\n",
       "      <td>12.000000</td>\n",
       "    </tr>\n",
       "    <tr>\n",
       "      <th>75%</th>\n",
       "      <td>2.000000</td>\n",
       "      <td>3.000000</td>\n",
       "      <td>1.000000</td>\n",
       "      <td>5.000000</td>\n",
       "      <td>112.000000</td>\n",
       "      <td>0.000000</td>\n",
       "      <td>12.000000</td>\n",
       "    </tr>\n",
       "    <tr>\n",
       "      <th>max</th>\n",
       "      <td>4.000000</td>\n",
       "      <td>4.000000</td>\n",
       "      <td>3.000000</td>\n",
       "      <td>5.000000</td>\n",
       "      <td>384.000000</td>\n",
       "      <td>4.000000</td>\n",
       "      <td>12.000000</td>\n",
       "    </tr>\n",
       "  </tbody>\n",
       "</table>\n",
       "</div>"
      ],
      "text/plain": [
       "       DVI_Connection  DisplayPort_Connection  HDMI_Connection       Shader  \\\n",
       "count     2501.000000              836.000000      2492.000000  3098.000000   \n",
       "mean         1.368653                1.616029         0.864366     4.744061   \n",
       "std          0.707701                1.221438         0.466525     0.644150   \n",
       "min          0.000000                0.000000         0.000000     1.000000   \n",
       "25%          1.000000                1.000000         1.000000     5.000000   \n",
       "50%          1.000000                1.000000         1.000000     5.000000   \n",
       "75%          2.000000                3.000000         1.000000     5.000000   \n",
       "max          4.000000                4.000000         3.000000     5.000000   \n",
       "\n",
       "              TMUs  VGA_Connection      DirectX  \n",
       "count  2739.000000     2494.000000  3180.000000  \n",
       "mean     70.230376        0.212109    11.420755  \n",
       "std      54.450249        0.428991     0.964130  \n",
       "min       1.000000        0.000000     8.000000  \n",
       "25%      32.000000        0.000000    11.000000  \n",
       "50%      56.000000        0.000000    12.000000  \n",
       "75%     112.000000        0.000000    12.000000  \n",
       "max     384.000000        4.000000    12.000000  "
      ]
     },
     "execution_count": 13,
     "metadata": {},
     "output_type": "execute_result"
    }
   ],
   "source": [
    "df.describe()"
   ]
  },
  {
   "cell_type": "code",
   "execution_count": 14,
   "metadata": {},
   "outputs": [
    {
     "data": {
      "text/plain": [
       "Index(['Nome', 'Best_Resolution', 'Boost_Clock', 'Core_Speed',\n",
       "       'DVI_Connection', 'Dedicated', 'DisplayPort_Connection',\n",
       "       'HDMI_Connection', 'Integrated', 'L2_Cache', 'Max_Power', 'Memory',\n",
       "       'Memory_Bandwidth', 'Memory_Bus', 'Memory_Speed', 'Memory_Type',\n",
       "       'Notebook_GPU', 'PSU', 'Pixel_Rate', 'Power_Connector', 'Process',\n",
       "       'ROPs', 'Resolution_WxH', 'SLI_Crossfire', 'Shader', 'TMUs',\n",
       "       'Texture_Rate', 'VGA_Connection', 'DirectX'],\n",
       "      dtype='object')"
      ]
     },
     "execution_count": 14,
     "metadata": {},
     "output_type": "execute_result"
    }
   ],
   "source": [
    "df.columns"
   ]
  },
  {
   "cell_type": "code",
   "execution_count": 15,
   "metadata": {},
   "outputs": [
    {
     "data": {
      "text/plain": [
       "0KB           733\n",
       "512KB         617\n",
       "256KB         331\n",
       "1024KB        320\n",
       "2048KB        298\n",
       "768KB         145\n",
       "128KB         134\n",
       "384KB         114\n",
       "0KB(x2)        97\n",
       "3072KB         57\n",
       "1536KB         56\n",
       "1792KB         45\n",
       "512KB(x2)      36\n",
       "768KB(x4)      29\n",
       "1024KB(x2)     28\n",
       "2048KB(x2)     27\n",
       "768KB(x2)      20\n",
       "640KB          18\n",
       "384KB(x2)      11\n",
       "1536KB(x2)     11\n",
       "4096KB         11\n",
       "3072KB(x2)     11\n",
       "256KB(x2)      10\n",
       "0KB(x4)         6\n",
       "512KB(x4)       2\n",
       "2048KB(x3)      2\n",
       "640KB(x2)       2\n",
       "768KB(x3)       2\n",
       "128KB(x2)       1\n",
       "192KB(x2)       1\n",
       "384KB(x3)       1\n",
       "2176KB(x2)      1\n",
       "0KB(x3)         1\n",
       "4352KB          1\n",
       "2304KB(x2)      1\n",
       "Name: L2_Cache, dtype: int64"
      ]
     },
     "execution_count": 15,
     "metadata": {},
     "output_type": "execute_result"
    }
   ],
   "source": [
    "df.L2_Cache.value_counts()"
   ]
  },
  {
   "cell_type": "code",
   "execution_count": 16,
   "metadata": {},
   "outputs": [
    {
     "name": "stdout",
     "output_type": "stream",
     "text": [
      "Boost_Clock not MHz values: []\n"
     ]
    }
   ],
   "source": [
    "def anti_filter(column,partial_str):\n",
    "    \"\"\"\n",
    "    This function only filter values from `column` that\n",
    "    do not contain values from `partial_str`\n",
    "    \"\"\"\n",
    "\n",
    "    values = column[column.notna()].apply(lambda x: str(x)).values\n",
    "\n",
    "    return [x for x in values if all(y not in x for y in partial_str)]\n",
    "\n",
    "\n",
    "not_MHz_values = anti_filter(df.L2_Cache, ['KB'])\n",
    "\n",
    "print(\"Boost_Clock not MHz values:\", not_MHz_values)"
   ]
  },
  {
   "cell_type": "code",
   "execution_count": 17,
   "metadata": {},
   "outputs": [
    {
     "data": {
      "text/plain": [
       "str"
      ]
     },
     "execution_count": 17,
     "metadata": {},
     "output_type": "execute_result"
    }
   ],
   "source": [
    "values = df.Boost_Clock[df.Boost_Clock.notna()].apply(lambda x: str(x))\n",
    "type(values.values[2])"
   ]
  },
  {
   "cell_type": "code",
   "execution_count": 18,
   "metadata": {},
   "outputs": [
    {
     "data": {
      "text/plain": [
       "0       1253 MHz \n",
       "3       1111 MHz \n",
       "5       1076 MHz \n",
       "6       1050 MHz \n",
       "7       1468 MHz \n",
       "          ...    \n",
       "3170    1216 MHz \n",
       "3171    1085 MHz \n",
       "3173    1683 MHz \n",
       "3175    1000 MHz \n",
       "3179    1582 MHz \n",
       "Name: Boost_Clock, Length: 1412, dtype: object"
      ]
     },
     "execution_count": 18,
     "metadata": {},
     "output_type": "execute_result"
    }
   ],
   "source": [
    "new_df = df.copy()\n",
    "\n",
    "new_df.Boost_Clock[new_df.Boost_Clock.notna()].apply(lambda x: str(x))\n",
    "new_df.Boost_Clock[new_df.Boost_Clock.notna()]"
   ]
  },
  {
   "cell_type": "code",
   "execution_count": 20,
   "metadata": {},
   "outputs": [
    {
     "data": {
      "text/plain": [
       "array(['1253 MHz ', nan, nan, ..., nan, nan, '1582 MHz '], dtype=object)"
      ]
     },
     "execution_count": 20,
     "metadata": {},
     "output_type": "execute_result"
    }
   ],
   "source": [
    "df.Boost_Clock.values"
   ]
  },
  {
   "cell_type": "code",
   "execution_count": 38,
   "metadata": {},
   "outputs": [
    {
     "data": {
      "text/plain": [
       "['Nome',\n",
       " 'Best_Resolution',\n",
       " 'Boost_Clock',\n",
       " 'Core_Speed',\n",
       " 'DVI_Connection',\n",
       " 'Dedicated',\n",
       " 'DisplayPort_Connection',\n",
       " 'HDMI_Connection',\n",
       " 'Integrated',\n",
       " 'L2_Cache',\n",
       " 'Max_Power',\n",
       " 'Memory',\n",
       " 'Memory_Bandwidth',\n",
       " 'Memory_Bus',\n",
       " 'Memory_Speed',\n",
       " 'Memory_Type',\n",
       " 'Notebook_GPU',\n",
       " 'PSU',\n",
       " 'Pixel_Rate',\n",
       " 'Power_Connector',\n",
       " 'Process',\n",
       " 'ROPs',\n",
       " 'Resolution_WxH',\n",
       " 'SLI_Crossfire',\n",
       " 'Shader',\n",
       " 'TMUs',\n",
       " 'Texture_Rate',\n",
       " 'VGA_Connection',\n",
       " 'DirectX']"
      ]
     },
     "execution_count": 38,
     "metadata": {},
     "output_type": "execute_result"
    }
   ],
   "source": [
    "df.columns.to_list()"
   ]
  },
  {
   "cell_type": "code",
   "execution_count": 14,
   "metadata": {},
   "outputs": [
    {
     "data": {
      "text/plain": [
       "array(['1253 MHz ', nan, '1111 MHz ', '1076 MHz ', '1050 MHz ',\n",
       "       '1468 MHz ', '1150 MHz ', '945 MHz ', '1367 MHz ', '1216 MHz ',\n",
       "       '980 MHz ', '1291 MHz ', '1733 MHz ', '1080 MHz ', '1317 MHz ',\n",
       "       '1683 MHz ', '1178 MHz ', '1860 MHz ', '400 MHz ', '1124 MHz ',\n",
       "       '1163 MHz ', '1100 MHz ', '1266 MHz ', '1032 MHz ', '896 MHz ',\n",
       "       '1000 MHz ', '1366 MHz ', '1582 MHz ', '1190 MHz ', '1771 MHz ',\n",
       "       '1340 MHz ', '1287 MHz ', '1350 MHz ', '925 MHz ', '1110 MHz ',\n",
       "       '1085 MHz ', '950 MHz ', '797 MHz ', '1275 MHz ', '1450 MHz ',\n",
       "       '775 MHz ', '1784 MHz ', '1058 MHz ', '1320 MHz ', '1342 MHz ',\n",
       "       '1045 MHz ', '1137 MHz ', '1084 MHz ', '1493 MHz ', '825 MHz ',\n",
       "       '1268 MHz ', '1355 MHz ', '975 MHz ', '1380 MHz ', '1405 MHz ',\n",
       "       '1279 MHz ', '1202 MHz ', '1392 MHz ', '1304 MHz ', '780 MHz ',\n",
       "       '1386 MHz ', '1441 MHz ', '1425 MHz ', '1329 MHz ', '1189 MHz ',\n",
       "       '1250 MHz ', '680 MHz ', '1873 MHz ', '1200 MHz ', '1270 MHz ',\n",
       "       '1098 MHz ', '1175 MHz ', '1176 MHz ', '1290 MHz ', '1033 MHz ',\n",
       "       '1228 MHz ', '1072 MHz ', '1196 MHz ', '700 MHz ', '850 MHz ',\n",
       "       '1797 MHz ', '820 MHz ', '855 MHz ', '1518 MHz ', '1036 MHz ',\n",
       "       '941 MHz ', '1046 MHz ', '1455 MHz ', '902 MHz ', '888 MHz ',\n",
       "       '1293 MHz ', '1556 MHz ', '1059 MHz ', '1295 MHz ', '810 MHz ',\n",
       "       '1759 MHz ', '1241 MHz ', '1835 MHz ', '1006 MHz ', '1070 MHz ',\n",
       "       '1709 MHz ', '1244 MHz ', '863 MHz ', '1338 MHz ', '1847 MHz ',\n",
       "       '876 MHz ', '1264 MHz ', '955 MHz ', '1226 MHz ', '1721 MHz ',\n",
       "       '1288 MHz ', '900 MHz ', '938 MHz ', '1431 MHz ', '960 MHz ',\n",
       "       '625 MHz ', '1260 MHz ', '1418 MHz ', '600 MHz ', '1242 MHz ',\n",
       "       '1035 MHz ', '1019 MHz ', '1294 MHz ', '967 MHz ', '940 MHz ',\n",
       "       '993 MHz ', '1393 MHz ', '933 MHz ', '800 MHz ', '720 MHz ',\n",
       "       '1210 MHz ', '1480 MHz ', '1020 MHz ', '954 MHz ', '1215 MHz ',\n",
       "       '1670 MHz ', '1097 MHz ', '1411 MHz ', '1220 MHz ', '1544 MHz ',\n",
       "       '1531 MHz ', '1180 MHz ', '1822 MHz ', '1256 MHz ', '1300 MHz ',\n",
       "       '1278 MHz ', '1255 MHz ', '1506 MHz ', '1417 MHz ', '1015 MHz ',\n",
       "       '1746 MHz ', '915 MHz ', '657 MHz ', '1240 MHz ', '1898 MHz ',\n",
       "       '1030 MHz ', '1218 MHz ', '875 MHz ', '844 MHz ', '1303 MHz ',\n",
       "       '1645 MHz ', '1127 MHz ', '1306 MHz ', '626 MHz ', '675 MHz ',\n",
       "       '1236 MHz ', '1224 MHz ', '1188 MHz ', '953 MHz ', '1620 MHz ',\n",
       "       '554 MHz ', '1120 MHz ', '1313 MHz ', '1785 MHz ', '936 MHz ',\n",
       "       '1267 MHz ', '836 MHz ', '655 MHz ', '1284 MHz ', '1038 MHz ',\n",
       "       '1430 MHz ', '1201 MHz ', '1212 MHz ', '1708 MHz ', '840 MHz ',\n",
       "       '1252 MHz ', '895 MHz ', '1281 MHz ', '1280 MHz ', '715 MHz ',\n",
       "       '1128 MHz ', '1330 MHz ', '1179 MHz ', '1809 MHz ', '1328 MHz ',\n",
       "       '1079 MHz ', '1439 MHz ', '1198 MHz ', '1089 MHz ', '1206 MHz ',\n",
       "       '500 MHz ', '1114 MHz ', '928 MHz ', '686 MHz ', '533 MHz ',\n",
       "       '1140 MHz ', '725 MHz ', '1936 MHz ', '1432 MHz ', '1632 MHz ',\n",
       "       '1021 MHz ', '1865 MHz ', '1254 MHz ', '1071 MHz ', '985 MHz ',\n",
       "       '930 MHz ', '1310 MHz ', '1845 MHz ', '1360 MHz ', '685 MHz ',\n",
       "       '1546 MHz ', '1230 MHz '], dtype=object)"
      ]
     },
     "execution_count": 14,
     "metadata": {},
     "output_type": "execute_result"
    }
   ],
   "source": [
    "df.Boost_Clock.unique()"
   ]
  },
  {
   "cell_type": "code",
   "execution_count": 15,
   "metadata": {},
   "outputs": [
    {
     "ename": "AttributeError",
     "evalue": "'DataFrame' object has no attribute 'column'",
     "output_type": "error",
     "traceback": [
      "\u001b[0;31m---------------------------------------------------------------------------\u001b[0m",
      "\u001b[0;31mAttributeError\u001b[0m                            Traceback (most recent call last)",
      "Input \u001b[0;32mIn [15]\u001b[0m, in \u001b[0;36m<cell line: 1>\u001b[0;34m()\u001b[0m\n\u001b[1;32m      1\u001b[0m \u001b[38;5;28;01mfor\u001b[39;00m column \u001b[38;5;129;01min\u001b[39;00m \u001b[38;5;28mlist\u001b[39m(df\u001b[38;5;241m.\u001b[39mcolumns):\n\u001b[0;32m----> 2\u001b[0m     \u001b[43mdf\u001b[49m\u001b[38;5;241;43m.\u001b[39;49m\u001b[43mcolumn\u001b[49m\n",
      "File \u001b[0;32m/usr/lib/python3/dist-packages/pandas/core/generic.py:5487\u001b[0m, in \u001b[0;36mNDFrame.__getattr__\u001b[0;34m(self, name)\u001b[0m\n\u001b[1;32m   5480\u001b[0m \u001b[38;5;28;01mif\u001b[39;00m (\n\u001b[1;32m   5481\u001b[0m     name \u001b[38;5;129;01mnot\u001b[39;00m \u001b[38;5;129;01min\u001b[39;00m \u001b[38;5;28mself\u001b[39m\u001b[38;5;241m.\u001b[39m_internal_names_set\n\u001b[1;32m   5482\u001b[0m     \u001b[38;5;129;01mand\u001b[39;00m name \u001b[38;5;129;01mnot\u001b[39;00m \u001b[38;5;129;01min\u001b[39;00m \u001b[38;5;28mself\u001b[39m\u001b[38;5;241m.\u001b[39m_metadata\n\u001b[1;32m   5483\u001b[0m     \u001b[38;5;129;01mand\u001b[39;00m name \u001b[38;5;129;01mnot\u001b[39;00m \u001b[38;5;129;01min\u001b[39;00m \u001b[38;5;28mself\u001b[39m\u001b[38;5;241m.\u001b[39m_accessors\n\u001b[1;32m   5484\u001b[0m     \u001b[38;5;129;01mand\u001b[39;00m \u001b[38;5;28mself\u001b[39m\u001b[38;5;241m.\u001b[39m_info_axis\u001b[38;5;241m.\u001b[39m_can_hold_identifiers_and_holds_name(name)\n\u001b[1;32m   5485\u001b[0m ):\n\u001b[1;32m   5486\u001b[0m     \u001b[38;5;28;01mreturn\u001b[39;00m \u001b[38;5;28mself\u001b[39m[name]\n\u001b[0;32m-> 5487\u001b[0m \u001b[38;5;28;01mreturn\u001b[39;00m \u001b[38;5;28;43mobject\u001b[39;49m\u001b[38;5;241;43m.\u001b[39;49m\u001b[38;5;21;43m__getattribute__\u001b[39;49m\u001b[43m(\u001b[49m\u001b[38;5;28;43mself\u001b[39;49m\u001b[43m,\u001b[49m\u001b[43m \u001b[49m\u001b[43mname\u001b[49m\u001b[43m)\u001b[49m\n",
      "\u001b[0;31mAttributeError\u001b[0m: 'DataFrame' object has no attribute 'column'"
     ]
    }
   ],
   "source": [
    "for column in list(df.columns):\n",
    "    df.column"
   ]
  },
  {
   "cell_type": "code",
   "execution_count": 21,
   "metadata": {},
   "outputs": [
    {
     "data": {
      "image/png": "[encoded data removed]",
      "text/plain": [
       "<Figure size 1260x1260 with 56 Axes>"
      ]
     },
     "metadata": {
      "needs_background": "light"
     },
     "output_type": "display_data"
    },
    {
     "name": "stdout",
     "output_type": "stream",
     "text": [
      "CPU times: user 5.74 s, sys: 1.08 s, total: 6.82 s\n",
      "Wall time: 5.53 s\n"
     ]
    }
   ],
   "source": [
    "%%time\n",
    "\n",
    "pairplot = sns.pairplot(df)\n",
    "plt.show()"
   ]
  },
  {
   "cell_type": "code",
   "execution_count": null,
   "metadata": {},
   "outputs": [],
   "source": []
  }
 ],
 "metadata": {
  "kernelspec": {
   "display_name": "first-env",
   "language": "python",
   "name": "first-env"
  },
  "language_info": {
   "codemirror_mode": {
    "name": "ipython",
    "version": 3
   },
   "file_extension": ".py",
   "mimetype": "text/x-python",
   "name": "python",
   "nbconvert_exporter": "python",
   "pygments_lexer": "ipython3",
   "version": "3.10.4"
  },
  "vscode": {
   "interpreter": {
    "hash": "916dbcbb3f70747c44a77c7bcd40155683ae19c65e1c03b4aa3499c5328201f1"
   }
  }
 },
 "nbformat": 4,
 "nbformat_minor": 4
}
